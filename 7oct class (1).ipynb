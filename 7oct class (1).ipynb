{
 "cells": [
  {
   "cell_type": "markdown",
   "id": "9776a36b-190d-4845-8e7c-f567b7ad3c2d",
   "metadata": {},
   "source": [
    "q.1"
   ]
  },
  {
   "cell_type": "code",
   "execution_count": 77,
   "id": "69e695df-543e-46c2-a6ec-4164a8b827bc",
   "metadata": {},
   "outputs": [],
   "source": [
    "#Sure, here is an example of a Python class representing a bank account with methods to deposit and withdraw money:"
   ]
  },
  {
   "cell_type": "code",
   "execution_count": 76,
   "id": "889a9fbe-76c3-4ed5-a33a-d269768fe9e2",
   "metadata": {},
   "outputs": [
    {
     "name": "stdout",
     "output_type": "stream",
     "text": [
      "Account Holder: Mohit Maheshwari, Account Number: 12345, Balance: $0\n",
      "Deposited $1000. Current balance: $1000\n",
      "Withdrew $500. Current balance: $500\n",
      "Current Balance: $500\n"
     ]
    }
   ],
   "source": [
    "class BankAccount:\n",
    "    def __init__(self, account_number, account_holder_name, balance=0):\n",
    "        self.account_number = account_number\n",
    "        self.account_holder_name = account_holder_name\n",
    "        self.balance = balance\n",
    "\n",
    "    def deposit(self, amount):\n",
    "        if amount > 0:\n",
    "            self.balance += amount\n",
    "            print(f\"Deposited ${amount}. Current balance: ${self.balance}\")\n",
    "        else:\n",
    "            print(\"Invalid deposit amount. Please enter a positive number.\")\n",
    "\n",
    "    def withdraw(self, amount):\n",
    "        if 0 < amount <= self.balance:\n",
    "            self.balance -= amount\n",
    "            print(f\"Withdrew ${amount}. Current balance: ${self.balance}\")\n",
    "        elif amount > self.balance:\n",
    "            print(\"Insufficient funds. Cannot withdraw.\")\n",
    "        else:\n",
    "            print(\"Invalid withdrawal amount. Please enter a positive number.\")\n",
    "\n",
    "    def get_balance(self):\n",
    "        return self.balance\n",
    "\n",
    "# Example usage:\n",
    "# Create a new bank account\n",
    "account1 = BankAccount(\"12345\", \"Mohit Maheshwari\")\n",
    "print(f\"Account Holder: {account1.account_holder_name}, Account Number: {account1.account_number}, Balance: ${account1.get_balance()}\")\n",
    "\n",
    "# Deposit money\n",
    "account1.deposit(1000)\n",
    "\n",
    "# Withdraw money\n",
    "account1.withdraw(500)\n",
    "\n",
    "# Check balance\n",
    "print(f\"Current Balance: ${account1.get_balance()}\")\n"
   ]
  },
  {
   "cell_type": "markdown",
   "id": "576cb2aa-8d82-4130-aeca-5f8847380d95",
   "metadata": {},
   "source": [
    "q.2"
   ]
  },
  {
   "cell_type": "code",
   "execution_count": 78,
   "id": "c4fd8210-6f5f-49c1-a17c-3d47fcbfd797",
   "metadata": {},
   "outputs": [],
   "source": [
    "#Certainly! Here is an example of a Python class representing an employee with attributes like employee ID, name, and salary. The class also implements methods to calculate the yearly bonus and display employee details:"
   ]
  },
  {
   "cell_type": "code",
   "execution_count": 79,
   "id": "1f8290e4-2525-4392-850c-8038c937bdc5",
   "metadata": {},
   "outputs": [
    {
     "name": "stdout",
     "output_type": "stream",
     "text": [
      "Yearly Bonus: $5000.0\n",
      "Employee ID: 1\n",
      "Name: Mohit\n",
      "Salary: $50000\n"
     ]
    }
   ],
   "source": [
    "class Employee:\n",
    "    def __init__(self, employee_id, name, salary):\n",
    "        self.employee_id = employee_id\n",
    "        self.name = name\n",
    "        self.salary = salary\n",
    "\n",
    "    def calculate_yearly_bonus(self, bonus_percentage):\n",
    "        bonus_amount = (bonus_percentage / 100) * self.salary\n",
    "        return bonus_amount\n",
    "\n",
    "    def display_employee_details(self):\n",
    "        print(f\"Employee ID: {self.employee_id}\")\n",
    "        print(f\"Name: {self.name}\")\n",
    "        print(f\"Salary: ${self.salary}\")\n",
    "\n",
    "# Example usage:\n",
    "# Create an employee instance\n",
    "employee1 = Employee(1, \"Mohit\", 50000)\n",
    "\n",
    "# Calculate yearly bonus (assuming 10% bonus)\n",
    "bonus_percentage = 10\n",
    "bonus_amount = employee1.calculate_yearly_bonus(bonus_percentage)\n",
    "print(f\"Yearly Bonus: ${bonus_amount}\")\n",
    "\n",
    "# Display employee details\n",
    "employee1.display_employee_details()\n"
   ]
  },
  {
   "cell_type": "markdown",
   "id": "602ac3c3-a0f6-4195-bfbb-feb0f77ce067",
   "metadata": {},
   "source": [
    "q.3"
   ]
  },
  {
   "cell_type": "code",
   "execution_count": 80,
   "id": "90431cb1-7d40-4974-b795-9af196cc038c",
   "metadata": {},
   "outputs": [],
   "source": [
    "#Certainly! Here's an example of a Python class representing a vehicle rental system with methods to rent a vehicle, return a vehicle, and display available vehicles:"
   ]
  },
  {
   "cell_type": "code",
   "execution_count": 81,
   "id": "a223f75d-1c49-4944-9fc2-a8f258087e8e",
   "metadata": {},
   "outputs": [
    {
     "name": "stdout",
     "output_type": "stream",
     "text": [
      "Vehicle 101 (Sedan) added to the rental system.\n",
      "Vehicle 102 (SUV) added to the rental system.\n",
      "Vehicle 103 (Truck) added to the rental system.\n",
      "Available Vehicles:\n",
      "Vehicle ID: 101, Type: Sedan\n",
      "Vehicle ID: 102, Type: SUV\n",
      "Vehicle ID: 103, Type: Truck\n",
      "Vehicle 101 (Sedan) rented successfully.\n",
      "Available Vehicles:\n",
      "Vehicle ID: 102, Type: SUV\n",
      "Vehicle ID: 103, Type: Truck\n",
      "Vehicle 101 (Sedan) returned successfully.\n",
      "Available Vehicles:\n",
      "Vehicle ID: 102, Type: SUV\n",
      "Vehicle ID: 103, Type: Truck\n",
      "Vehicle ID: 101, Type: Sedan\n"
     ]
    }
   ],
   "source": [
    "class VehicleRentalSystem:\n",
    "    def __init__(self):\n",
    "        self.available_vehicles = {}\n",
    "\n",
    "    def add_vehicle(self, vehicle_id, vehicle_type):\n",
    "        if vehicle_id not in self.available_vehicles:\n",
    "            self.available_vehicles[vehicle_id] = vehicle_type\n",
    "            print(f\"Vehicle {vehicle_id} ({vehicle_type}) added to the rental system.\")\n",
    "        else:\n",
    "            print(f\"Vehicle {vehicle_id} already exists in the rental system.\")\n",
    "\n",
    "    def rent_vehicle(self, vehicle_id):\n",
    "        if vehicle_id in self.available_vehicles:\n",
    "            vehicle_type = self.available_vehicles.pop(vehicle_id)\n",
    "            print(f\"Vehicle {vehicle_id} ({vehicle_type}) rented successfully.\")\n",
    "        else:\n",
    "            print(f\"Vehicle {vehicle_id} is not available for rent.\")\n",
    "\n",
    "    def return_vehicle(self, vehicle_id, vehicle_type):\n",
    "        if vehicle_id not in self.available_vehicles:\n",
    "            self.available_vehicles[vehicle_id] = vehicle_type\n",
    "            print(f\"Vehicle {vehicle_id} ({vehicle_type}) returned successfully.\")\n",
    "        else:\n",
    "            print(f\"Vehicle {vehicle_id} is already available.\")\n",
    "\n",
    "    def display_available_vehicles(self):\n",
    "        print(\"Available Vehicles:\")\n",
    "        for vehicle_id, vehicle_type in self.available_vehicles.items():\n",
    "            print(f\"Vehicle ID: {vehicle_id}, Type: {vehicle_type}\")\n",
    "\n",
    "# Example usage:\n",
    "# Create a vehicle rental system instance\n",
    "rental_system = VehicleRentalSystem()\n",
    "\n",
    "# Add vehicles to the system\n",
    "rental_system.add_vehicle(\"101\", \"Sedan\")\n",
    "rental_system.add_vehicle(\"102\", \"SUV\")\n",
    "rental_system.add_vehicle(\"103\", \"Truck\")\n",
    "\n",
    "# Display available vehicles\n",
    "rental_system.display_available_vehicles()\n",
    "\n",
    "# Rent a vehicle\n",
    "rental_system.rent_vehicle(\"101\")\n",
    "\n",
    "# Display available vehicles after renting\n",
    "rental_system.display_available_vehicles()\n",
    "\n",
    "# Return a vehicle\n",
    "rental_system.return_vehicle(\"101\", \"Sedan\")\n",
    "\n",
    "# Display available vehicles after returning\n",
    "rental_system.display_available_vehicles()\n"
   ]
  },
  {
   "cell_type": "markdown",
   "id": "5180db29-dc82-4c3c-a1f8-90110f1a9f30",
   "metadata": {},
   "source": [
    "q.4"
   ]
  },
  {
   "cell_type": "code",
   "execution_count": 82,
   "id": "1c08c9db-c6d7-4207-94bb-5c2445968df7",
   "metadata": {},
   "outputs": [],
   "source": [
    "#Certainly! Here's an example of a Python implementation with classes representing a library and a book. It includes methods to add books to the library, borrow books, and display available books:"
   ]
  },
  {
   "cell_type": "code",
   "execution_count": 83,
   "id": "4a1a540d-f864-4b86-8884-38599a24ab76",
   "metadata": {},
   "outputs": [
    {
     "name": "stdout",
     "output_type": "stream",
     "text": [
      "Book 'The Great Gatsby' added to the library.\n",
      "Book 'To Kill a Mockingbird' added to the library.\n",
      "Book '1984' added to the library.\n",
      "Available Books:\n",
      "Book ID: 1, Title: The Great Gatsby, Author: F. Scott Fitzgerald, Available: True\n",
      "Book ID: 2, Title: To Kill a Mockingbird, Author: Harper Lee, Available: True\n",
      "Book ID: 3, Title: 1984, Author: George Orwell, Available: True\n",
      "Book 'The Great Gatsby' (ID: 1) has been borrowed.\n",
      "Available Books:\n",
      "Book ID: 2, Title: To Kill a Mockingbird, Author: Harper Lee, Available: True\n",
      "Book ID: 3, Title: 1984, Author: George Orwell, Available: True\n",
      "Book 'The Great Gatsby' (ID: 1) is already borrowed.\n",
      "\n",
      "Book returned.\n",
      "Available Books:\n",
      "Book ID: 1, Title: The Great Gatsby, Author: F. Scott Fitzgerald, Available: True\n",
      "Book ID: 2, Title: To Kill a Mockingbird, Author: Harper Lee, Available: True\n",
      "Book ID: 3, Title: 1984, Author: George Orwell, Available: True\n"
     ]
    }
   ],
   "source": [
    "class Book:\n",
    "    def __init__(self, book_id, title, author):\n",
    "        self.book_id = book_id\n",
    "        self.title = title\n",
    "        self.author = author\n",
    "        self.is_available = True\n",
    "\n",
    "    def __str__(self):\n",
    "        return f\"Book ID: {self.book_id}, Title: {self.title}, Author: {self.author}, Available: {self.is_available}\"\n",
    "\n",
    "class Library:\n",
    "    def __init__(self):\n",
    "        self.books = {}\n",
    "\n",
    "    def add_book(self, book_id, title, author):\n",
    "        if book_id not in self.books:\n",
    "            book = Book(book_id, title, author)\n",
    "            self.books[book_id] = book\n",
    "            print(f\"Book '{title}' added to the library.\")\n",
    "        else:\n",
    "            print(f\"Book with ID {book_id} already exists in the library.\")\n",
    "\n",
    "    def borrow_book(self, book_id):\n",
    "        if book_id in self.books and self.books[book_id].is_available:\n",
    "            self.books[book_id].is_available = False\n",
    "            print(f\"Book '{self.books[book_id].title}' (ID: {book_id}) has been borrowed.\")\n",
    "        elif book_id in self.books and not self.books[book_id].is_available:\n",
    "            print(f\"Book '{self.books[book_id].title}' (ID: {book_id}) is already borrowed.\")\n",
    "        else:\n",
    "            print(f\"Book with ID {book_id} is not available in the library.\")\n",
    "\n",
    "    def display_available_books(self):\n",
    "        print(\"Available Books:\")\n",
    "        for book_id, book in self.books.items():\n",
    "            if book.is_available:\n",
    "                print(book)\n",
    "\n",
    "# Example usage:\n",
    "# Create a library instance\n",
    "library = Library()\n",
    "\n",
    "# Add books to the library\n",
    "library.add_book(1, \"The Great Gatsby\", \"F. Scott Fitzgerald\")\n",
    "library.add_book(2, \"To Kill a Mockingbird\", \"Harper Lee\")\n",
    "library.add_book(3, \"1984\", \"George Orwell\")\n",
    "\n",
    "# Display available books\n",
    "library.display_available_books()\n",
    "\n",
    "# Borrow a book\n",
    "library.borrow_book(1)\n",
    "\n",
    "# Display available books after borrowing\n",
    "library.display_available_books()\n",
    "\n",
    "# Try to borrow an already borrowed book\n",
    "library.borrow_book(1)\n",
    "\n",
    "# Return a book\n",
    "library.books[1].is_available = True\n",
    "print(\"\\nBook returned.\")\n",
    "library.display_available_books()\n"
   ]
  },
  {
   "cell_type": "markdown",
   "id": "62c4fbf7-b8f6-4c48-8ad7-5d07f8ba0205",
   "metadata": {},
   "source": [
    "q.5"
   ]
  },
  {
   "cell_type": "code",
   "execution_count": 84,
   "id": "ab68c4d9-5709-46df-b28e-c5c17e32d286",
   "metadata": {},
   "outputs": [],
   "source": [
    "#Certainly! Here's an example of a Python implementation with classes representing a product and an inventory system. It includes methods to add products to the inventory, update product quantity, and display available products:"
   ]
  },
  {
   "cell_type": "code",
   "execution_count": 85,
   "id": "58e163e1-a6a0-4bea-8a3a-97b0bd682a63",
   "metadata": {},
   "outputs": [
    {
     "name": "stdout",
     "output_type": "stream",
     "text": [
      "Product 'Laptop' added to the inventory.\n",
      "Product 'Mouse' added to the inventory.\n",
      "Product 'Keyboard' added to the inventory.\n",
      "Available Products:\n",
      "Product ID: 1, Name: Laptop, Price: $800, Quantity: 10\n",
      "Product ID: 2, Name: Mouse, Price: $20, Quantity: 50\n",
      "Product ID: 3, Name: Keyboard, Price: $50, Quantity: 30\n",
      "Quantity for product 'Laptop' updated to 8.\n",
      "Available Products:\n",
      "Product ID: 1, Name: Laptop, Price: $800, Quantity: 8\n",
      "Product ID: 2, Name: Mouse, Price: $20, Quantity: 50\n",
      "Product ID: 3, Name: Keyboard, Price: $50, Quantity: 30\n",
      "Product with ID 4 is not available in the inventory.\n"
     ]
    }
   ],
   "source": [
    "class Product:\n",
    "    def __init__(self, product_id, name, price, quantity):\n",
    "        self.product_id = product_id\n",
    "        self.name = name\n",
    "        self.price = price\n",
    "        self.quantity = quantity\n",
    "\n",
    "    def __str__(self):\n",
    "        return f\"Product ID: {self.product_id}, Name: {self.name}, Price: ${self.price}, Quantity: {self.quantity}\"\n",
    "\n",
    "class InventorySystem:\n",
    "    def __init__(self):\n",
    "        self.products = {}\n",
    "\n",
    "    def add_product(self, product_id, name, price, quantity):\n",
    "        if product_id not in self.products:\n",
    "            product = Product(product_id, name, price, quantity)\n",
    "            self.products[product_id] = product\n",
    "            print(f\"Product '{name}' added to the inventory.\")\n",
    "        else:\n",
    "            print(f\"Product with ID {product_id} already exists in the inventory.\")\n",
    "\n",
    "    def update_quantity(self, product_id, new_quantity):\n",
    "        if product_id in self.products:\n",
    "            self.products[product_id].quantity = new_quantity\n",
    "            print(f\"Quantity for product '{self.products[product_id].name}' updated to {new_quantity}.\")\n",
    "        else:\n",
    "            print(f\"Product with ID {product_id} is not available in the inventory.\")\n",
    "\n",
    "    def display_available_products(self):\n",
    "        print(\"Available Products:\")\n",
    "        for product_id, product in self.products.items():\n",
    "            print(product)\n",
    "\n",
    "# Example usage:\n",
    "# Create an inventory system instance\n",
    "inventory_system = InventorySystem()\n",
    "\n",
    "# Add products to the inventory\n",
    "inventory_system.add_product(1, \"Laptop\", 800, 10)\n",
    "inventory_system.add_product(2, \"Mouse\", 20, 50)\n",
    "inventory_system.add_product(3, \"Keyboard\", 50, 30)\n",
    "\n",
    "# Display available products\n",
    "inventory_system.display_available_products()\n",
    "\n",
    "# Update product quantity\n",
    "inventory_system.update_quantity(1, 8)\n",
    "\n",
    "# Display available products after updating quantity\n",
    "inventory_system.display_available_products()\n",
    "\n",
    "# Try to update quantity for a non-existing product\n",
    "inventory_system.update_quantity(4, 5)\n"
   ]
  },
  {
   "cell_type": "markdown",
   "id": "475668b2-991e-42b1-91d0-d331e80f0321",
   "metadata": {},
   "source": [
    "q.6"
   ]
  },
  {
   "cell_type": "code",
   "execution_count": 86,
   "id": "ca695c46-a200-4b89-a190-7f7cd590eca8",
   "metadata": {},
   "outputs": [],
   "source": [
    "#Certainly! Here's an example of a Python class representing a shape with attributes like length, width, and height. It includes methods to calculate the area and perimeter of the shape. For simplicity, I'll provide a class for a rectangle, but you can easily extend this concept to other shapes as needed."
   ]
  },
  {
   "cell_type": "code",
   "execution_count": 87,
   "id": "cd50c149-f08a-47f0-9e1f-8b47ff6f1dbd",
   "metadata": {},
   "outputs": [
    {
     "name": "stdout",
     "output_type": "stream",
     "text": [
      "Area of the rectangle: 50 square units\n",
      "Perimeter of the rectangle: 30 units\n"
     ]
    }
   ],
   "source": [
    "class Shape:\n",
    "    def __init__(self, length=0, width=0, height=0):\n",
    "        self.length = length\n",
    "        self.width = width\n",
    "        self.height = height\n",
    "\n",
    "    def calculate_area(self):\n",
    "        raise NotImplementedError(\"Subclasses should implement this method\")\n",
    "\n",
    "    def calculate_perimeter(self):\n",
    "        raise NotImplementedError(\"Subclasses should implement this method\")\n",
    "\n",
    "class Rectangle(Shape):\n",
    "    def __init__(self, length, width):\n",
    "        super().__init__(length, width)\n",
    "\n",
    "    def calculate_area(self):\n",
    "        return self.length * self.width\n",
    "\n",
    "    def calculate_perimeter(self):\n",
    "        return 2 * (self.length + self.width)\n",
    "\n",
    "# Example usage:\n",
    "# Create a rectangle instance\n",
    "rectangle = Rectangle(5, 10)\n",
    "\n",
    "# Calculate and display the area of the rectangle\n",
    "print(f\"Area of the rectangle: {rectangle.calculate_area()} square units\")\n",
    "\n",
    "# Calculate and display the perimeter of the rectangle\n",
    "print(f\"Perimeter of the rectangle: {rectangle.calculate_perimeter()} units\")\n"
   ]
  },
  {
   "cell_type": "markdown",
   "id": "11587c71-433f-4623-b79d-391cf15fdd64",
   "metadata": {},
   "source": [
    "q.7"
   ]
  },
  {
   "cell_type": "code",
   "execution_count": 88,
   "id": "1de22c9c-2585-4b57-8bfa-62e3cc826482",
   "metadata": {},
   "outputs": [],
   "source": [
    "#Certainly! Here's an example of a Python class representing a student with attributes like student ID, name, and grades. It includes methods to calculate the average grade and display student details:"
   ]
  },
  {
   "cell_type": "code",
   "execution_count": 89,
   "id": "8ed4ee0d-e4b3-4265-86a4-e90c35c2a958",
   "metadata": {},
   "outputs": [
    {
     "name": "stdout",
     "output_type": "stream",
     "text": [
      "Student ID: 1\n",
      "Name: Alice\n",
      "Grades: [85, 92, 78]\n",
      "Average Grade: 85.0\n"
     ]
    }
   ],
   "source": [
    "class Student:\n",
    "    def __init__(self, student_id, name):\n",
    "        self.student_id = student_id\n",
    "        self.name = name\n",
    "        self.grades = []\n",
    "\n",
    "    def add_grade(self, grade):\n",
    "        self.grades.append(grade)\n",
    "\n",
    "    def calculate_average_grade(self):\n",
    "        if len(self.grades) > 0:\n",
    "            average_grade = sum(self.grades) / len(self.grades)\n",
    "            return average_grade\n",
    "        else:\n",
    "            return 0\n",
    "\n",
    "    def display_student_details(self):\n",
    "        print(f\"Student ID: {self.student_id}\")\n",
    "        print(f\"Name: {self.name}\")\n",
    "        print(f\"Grades: {self.grades}\")\n",
    "        print(f\"Average Grade: {self.calculate_average_grade()}\")\n",
    "\n",
    "# Example usage:\n",
    "# Create a student instance\n",
    "student1 = Student(1, \"Alice\")\n",
    "\n",
    "# Add grades to the student\n",
    "student1.add_grade(85)\n",
    "student1.add_grade(92)\n",
    "student1.add_grade(78)\n",
    "\n",
    "# Display student details\n",
    "student1.display_student_details()\n"
   ]
  },
  {
   "cell_type": "markdown",
   "id": "d67e5d96-094a-4a06-bf0c-6c827eff05ec",
   "metadata": {},
   "source": [
    "q.8"
   ]
  },
  {
   "cell_type": "code",
   "execution_count": 90,
   "id": "0a07e77d-db2b-40cb-81e8-5825c57ac3ea",
   "metadata": {},
   "outputs": [],
   "source": [
    "#Certainly! Here's an example of a Python class representing an email with attributes like sender, recipient, and subject. It includes methods to send an email and display email details:"
   ]
  },
  {
   "cell_type": "code",
   "execution_count": 91,
   "id": "2faa2e02-87b6-4743-be02-2bba0fd20690",
   "metadata": {},
   "outputs": [
    {
     "name": "stdout",
     "output_type": "stream",
     "text": [
      "Email Details Before Sending:\n",
      "Sender: sender@example.com\n",
      "Recipient: recipient@example.com\n",
      "Subject: Hello\n",
      "Message: This is a test email.\n",
      "Email Status: Not Sent\n",
      "Email sent from sender@example.com to recipient@example.com\n",
      "\n",
      "Email Details After Sending:\n",
      "Sender: sender@example.com\n",
      "Recipient: recipient@example.com\n",
      "Subject: Hello\n",
      "Message: This is a test email.\n",
      "Email Status: Sent\n",
      "Email has already been sent.\n"
     ]
    }
   ],
   "source": [
    "class Email:\n",
    "    def __init__(self, sender, recipient, subject, message):\n",
    "        self.sender = sender\n",
    "        self.recipient = recipient\n",
    "        self.subject = subject\n",
    "        self.message = message\n",
    "        self.is_sent = False\n",
    "\n",
    "    def send_email(self):\n",
    "        if not self.is_sent:\n",
    "            print(f\"Email sent from {self.sender} to {self.recipient}\")\n",
    "            self.is_sent = True\n",
    "        else:\n",
    "            print(\"Email has already been sent.\")\n",
    "\n",
    "    def display_email_details(self):\n",
    "        print(f\"Sender: {self.sender}\")\n",
    "        print(f\"Recipient: {self.recipient}\")\n",
    "        print(f\"Subject: {self.subject}\")\n",
    "        print(f\"Message: {self.message}\")\n",
    "        print(f\"Email Status: {'Sent' if self.is_sent else 'Not Sent'}\")\n",
    "\n",
    "# Example usage:\n",
    "# Create an email instance\n",
    "email = Email(sender=\"sender@example.com\", recipient=\"recipient@example.com\", subject=\"Hello\", message=\"This is a test email.\")\n",
    "\n",
    "# Display email details before sending\n",
    "print(\"Email Details Before Sending:\")\n",
    "email.display_email_details()\n",
    "\n",
    "# Send the email\n",
    "email.send_email()\n",
    "\n",
    "# Display email details after sending\n",
    "print(\"\\nEmail Details After Sending:\")\n",
    "email.display_email_details()\n",
    "\n",
    "# Try to send the email again\n",
    "email.send_email()\n"
   ]
  },
  {
   "cell_type": "markdown",
   "id": "4b905f08-d3ed-44b4-9d0a-a3b6772221eb",
   "metadata": {},
   "source": [
    "q.9"
   ]
  },
  {
   "cell_type": "code",
   "execution_count": 92,
   "id": "1e8e833c-1eee-4bf3-b678-1009b2f643da",
   "metadata": {},
   "outputs": [],
   "source": [
    "#Certainly! Here's an example of a Python class representing a social media profile with attributes like username and posts. It includes methods to add posts, display posts, and search for posts by keyword:"
   ]
  },
  {
   "cell_type": "code",
   "execution_count": 93,
   "id": "1f1a2784-3096-435b-8d19-f020351988c7",
   "metadata": {},
   "outputs": [
    {
     "name": "stdout",
     "output_type": "stream",
     "text": [
      "Post added successfully.\n",
      "Post added successfully.\n",
      "Post added successfully.\n",
      "Posts by user123:\n",
      "Having a great day at the beach!\n",
      "Exploring new places with friends.\n",
      "Dinner with family tonight.\n",
      "Posts containing 'beach':\n",
      "Having a great day at the beach!\n",
      "Posts containing 'friends':\n",
      "Exploring new places with friends.\n",
      "No posts found containing 'travel'.\n"
     ]
    }
   ],
   "source": [
    "class SocialMediaProfile:\n",
    "    def __init__(self, username):\n",
    "        self.username = username\n",
    "        self.posts = []\n",
    "\n",
    "    def add_post(self, post_content):\n",
    "        self.posts.append(post_content)\n",
    "        print(\"Post added successfully.\")\n",
    "\n",
    "    def display_posts(self):\n",
    "        if self.posts:\n",
    "            print(f\"Posts by {self.username}:\")\n",
    "            for post in self.posts:\n",
    "                print(post)\n",
    "        else:\n",
    "            print(f\"No posts available for {self.username}.\")\n",
    "\n",
    "    def search_posts(self, keyword):\n",
    "        matching_posts = [post for post in self.posts if keyword.lower() in post.lower()]\n",
    "        if matching_posts:\n",
    "            print(f\"Posts containing '{keyword}':\")\n",
    "            for post in matching_posts:\n",
    "                print(post)\n",
    "        else:\n",
    "            print(f\"No posts found containing '{keyword}'.\")\n",
    "\n",
    "# Example usage:\n",
    "# Create a social media profile instance\n",
    "profile = SocialMediaProfile(\"user123\")\n",
    "\n",
    "# Add posts to the profile\n",
    "profile.add_post(\"Having a great day at the beach!\")\n",
    "profile.add_post(\"Exploring new places with friends.\")\n",
    "profile.add_post(\"Dinner with family tonight.\")\n",
    "\n",
    "# Display all posts\n",
    "profile.display_posts()\n",
    "\n",
    "# Search for posts containing a specific keyword\n",
    "profile.search_posts(\"beach\")\n",
    "\n",
    "# Search for posts containing another keyword\n",
    "profile.search_posts(\"friends\")\n",
    "\n",
    "# Search for posts containing a keyword not present in any post\n",
    "profile.search_posts(\"travel\")\n"
   ]
  },
  {
   "cell_type": "markdown",
   "id": "b1dd5a55-a777-4d7d-a6f9-78f36563f1cd",
   "metadata": {},
   "source": [
    "q.10"
   ]
  },
  {
   "cell_type": "code",
   "execution_count": 94,
   "id": "9a3e1714-8229-45c4-8c37-f970d1fc37b0",
   "metadata": {},
   "outputs": [],
   "source": [
    "#Certainly! Here's an example of a Python class representing a ToDo list with attributes like tasks and due dates. It includes methods to add tasks, mark tasks as completed, and display pending tasks:"
   ]
  },
  {
   "cell_type": "code",
   "execution_count": 95,
   "id": "c1bd6142-0927-4157-bfe7-3a58ed7f2c12",
   "metadata": {},
   "outputs": [
    {
     "name": "stdout",
     "output_type": "stream",
     "text": [
      "Task 'Complete project report' added with due date: 2023-10-15\n",
      "Task 'Buy groceries' added with due date: 2023-10-10\n",
      "Task 'Prepare for presentation' added with due date: 2023-10-12\n",
      "Pending Tasks:\n",
      "Task: Complete project report, Due Date: 2023-10-15\n",
      "Task: Buy groceries, Due Date: 2023-10-10\n",
      "Task: Prepare for presentation, Due Date: 2023-10-12\n",
      "Task 'Buy groceries' marked as completed.\n",
      "Pending Tasks:\n",
      "Task: Complete project report, Due Date: 2023-10-15\n",
      "Task: Prepare for presentation, Due Date: 2023-10-12\n",
      "Task 'Read a book' not found in the ToDo list.\n"
     ]
    }
   ],
   "source": [
    "class ToDoList:\n",
    "    def __init__(self):\n",
    "        self.tasks = {}\n",
    "\n",
    "    def add_task(self, task, due_date):\n",
    "        self.tasks[task] = due_date\n",
    "        print(f\"Task '{task}' added with due date: {due_date}\")\n",
    "\n",
    "    def mark_as_completed(self, task):\n",
    "        if task in self.tasks:\n",
    "            del self.tasks[task]\n",
    "            print(f\"Task '{task}' marked as completed.\")\n",
    "        else:\n",
    "            print(f\"Task '{task}' not found in the ToDo list.\")\n",
    "\n",
    "    def display_pending_tasks(self):\n",
    "        print(\"Pending Tasks:\")\n",
    "        for task, due_date in self.tasks.items():\n",
    "            print(f\"Task: {task}, Due Date: {due_date}\")\n",
    "\n",
    "# Example usage:\n",
    "# Create a ToDo list instance\n",
    "todo_list = ToDoList()\n",
    "\n",
    "# Add tasks to the ToDo list\n",
    "todo_list.add_task(\"Complete project report\", \"2023-10-15\")\n",
    "todo_list.add_task(\"Buy groceries\", \"2023-10-10\")\n",
    "todo_list.add_task(\"Prepare for presentation\", \"2023-10-12\")\n",
    "\n",
    "# Display pending tasks\n",
    "todo_list.display_pending_tasks()\n",
    "\n",
    "# Mark a task as completed\n",
    "todo_list.mark_as_completed(\"Buy groceries\")\n",
    "\n",
    "# Display pending tasks after marking a task as completed\n",
    "todo_list.display_pending_tasks()\n",
    "\n",
    "# Try to mark a non-existing task as completed\n",
    "todo_list.mark_as_completed(\"Read a book\")\n"
   ]
  },
  {
   "cell_type": "code",
   "execution_count": null,
   "id": "2da968fc-643e-47c7-b239-22adbec91055",
   "metadata": {},
   "outputs": [],
   "source": []
  }
 ],
 "metadata": {
  "kernelspec": {
   "display_name": "Python 3 (ipykernel)",
   "language": "python",
   "name": "python3"
  },
  "language_info": {
   "codemirror_mode": {
    "name": "ipython",
    "version": 3
   },
   "file_extension": ".py",
   "mimetype": "text/x-python",
   "name": "python",
   "nbconvert_exporter": "python",
   "pygments_lexer": "ipython3",
   "version": "3.10.8"
  }
 },
 "nbformat": 4,
 "nbformat_minor": 5
}
